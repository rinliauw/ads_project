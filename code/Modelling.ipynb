{
 "cells": [
  {
   "cell_type": "markdown",
   "metadata": {},
   "source": [
    "### Import Data"
   ]
  },
  {
   "cell_type": "code",
   "execution_count": 2,
   "metadata": {},
   "outputs": [],
   "source": [
    "# import libraries\n",
    "import pandas as pd\n",
    "import matplotlib.pyplot as plt\n",
    "import seaborn as sns\n",
    "\n",
    "# ignore warning\n",
    "import warnings\n",
    "warnings.filterwarnings(\"ignore\")"
   ]
  },
  {
   "cell_type": "code",
   "execution_count": 3,
   "metadata": {},
   "outputs": [],
   "source": [
    "# load data\n",
    "jan = pd.read_csv(\"../preprocessed_data/January.csv\")\n",
    "feb = pd.read_csv(\"../preprocessed_data/February.csv\")\n",
    "mar = pd.read_csv(\"../preprocessed_data/March.csv\")\n",
    "jan_2020 = pd.read_csv(\"../preprocessed_data/January_2020.csv\")\n",
    "feb_2020 = pd.read_csv(\"../preprocessed_data/February_2020.csv\")\n",
    "mar_2020 = pd.read_csv(\"../preprocessed_data/March_2020.csv\")"
   ]
  },
  {
   "cell_type": "code",
   "execution_count": 4,
   "metadata": {
    "scrolled": true
   },
   "outputs": [
    {
     "data": {
      "text/html": [
       "<div>\n",
       "<style scoped>\n",
       "    .dataframe tbody tr th:only-of-type {\n",
       "        vertical-align: middle;\n",
       "    }\n",
       "\n",
       "    .dataframe tbody tr th {\n",
       "        vertical-align: top;\n",
       "    }\n",
       "\n",
       "    .dataframe thead th {\n",
       "        text-align: right;\n",
       "    }\n",
       "</style>\n",
       "<table border=\"1\" class=\"dataframe\">\n",
       "  <thead>\n",
       "    <tr style=\"text-align: right;\">\n",
       "      <th></th>\n",
       "      <th>Unnamed: 0</th>\n",
       "      <th>VendorID</th>\n",
       "      <th>tpep_pickup_datetime</th>\n",
       "      <th>tpep_dropoff_datetime</th>\n",
       "      <th>passenger_count</th>\n",
       "      <th>trip_distance</th>\n",
       "      <th>RatecodeID</th>\n",
       "      <th>store_and_fwd_flag</th>\n",
       "      <th>PULocationID</th>\n",
       "      <th>DOLocationID</th>\n",
       "      <th>...</th>\n",
       "      <th>tip_amount</th>\n",
       "      <th>tolls_amount</th>\n",
       "      <th>improvement_surcharge</th>\n",
       "      <th>total_amount</th>\n",
       "      <th>congestion_surcharge</th>\n",
       "      <th>Rain, Melted Snow, Etc. (in)</th>\n",
       "      <th>Snow, Ice, Pellets, Hail (in)</th>\n",
       "      <th>Snow, Ice, Pellets, Hail, Ice on Ground (in)</th>\n",
       "      <th>weather_median</th>\n",
       "      <th>time_traveled (seconds)</th>\n",
       "    </tr>\n",
       "  </thead>\n",
       "  <tbody>\n",
       "    <tr>\n",
       "      <th>0</th>\n",
       "      <td>0</td>\n",
       "      <td>1</td>\n",
       "      <td>2019-01-01 00:46:40</td>\n",
       "      <td>2019-01-01 00:53:20</td>\n",
       "      <td>1</td>\n",
       "      <td>1.50</td>\n",
       "      <td>1</td>\n",
       "      <td>N</td>\n",
       "      <td>151</td>\n",
       "      <td>239</td>\n",
       "      <td>...</td>\n",
       "      <td>1.65</td>\n",
       "      <td>0.0</td>\n",
       "      <td>0.3</td>\n",
       "      <td>9.95</td>\n",
       "      <td>NaN</td>\n",
       "      <td>0,06</td>\n",
       "      <td>0</td>\n",
       "      <td>0</td>\n",
       "      <td>48.5</td>\n",
       "      <td>400.0</td>\n",
       "    </tr>\n",
       "    <tr>\n",
       "      <th>1</th>\n",
       "      <td>1</td>\n",
       "      <td>1</td>\n",
       "      <td>2019-01-01 00:59:47</td>\n",
       "      <td>2019-01-01 01:18:59</td>\n",
       "      <td>1</td>\n",
       "      <td>2.60</td>\n",
       "      <td>1</td>\n",
       "      <td>N</td>\n",
       "      <td>239</td>\n",
       "      <td>246</td>\n",
       "      <td>...</td>\n",
       "      <td>1.00</td>\n",
       "      <td>0.0</td>\n",
       "      <td>0.3</td>\n",
       "      <td>16.30</td>\n",
       "      <td>NaN</td>\n",
       "      <td>0,06</td>\n",
       "      <td>0</td>\n",
       "      <td>0</td>\n",
       "      <td>48.5</td>\n",
       "      <td>1152.0</td>\n",
       "    </tr>\n",
       "    <tr>\n",
       "      <th>2</th>\n",
       "      <td>2</td>\n",
       "      <td>1</td>\n",
       "      <td>2019-01-01 00:21:28</td>\n",
       "      <td>2019-01-01 00:28:37</td>\n",
       "      <td>1</td>\n",
       "      <td>1.30</td>\n",
       "      <td>1</td>\n",
       "      <td>N</td>\n",
       "      <td>163</td>\n",
       "      <td>229</td>\n",
       "      <td>...</td>\n",
       "      <td>1.25</td>\n",
       "      <td>0.0</td>\n",
       "      <td>0.3</td>\n",
       "      <td>9.05</td>\n",
       "      <td>NaN</td>\n",
       "      <td>0,06</td>\n",
       "      <td>0</td>\n",
       "      <td>0</td>\n",
       "      <td>48.5</td>\n",
       "      <td>429.0</td>\n",
       "    </tr>\n",
       "    <tr>\n",
       "      <th>3</th>\n",
       "      <td>3</td>\n",
       "      <td>1</td>\n",
       "      <td>2019-01-01 00:32:01</td>\n",
       "      <td>2019-01-01 00:45:39</td>\n",
       "      <td>1</td>\n",
       "      <td>3.70</td>\n",
       "      <td>1</td>\n",
       "      <td>N</td>\n",
       "      <td>229</td>\n",
       "      <td>7</td>\n",
       "      <td>...</td>\n",
       "      <td>3.70</td>\n",
       "      <td>0.0</td>\n",
       "      <td>0.3</td>\n",
       "      <td>18.50</td>\n",
       "      <td>NaN</td>\n",
       "      <td>0,06</td>\n",
       "      <td>0</td>\n",
       "      <td>0</td>\n",
       "      <td>48.5</td>\n",
       "      <td>818.0</td>\n",
       "    </tr>\n",
       "    <tr>\n",
       "      <th>4</th>\n",
       "      <td>4</td>\n",
       "      <td>1</td>\n",
       "      <td>2019-01-01 00:57:32</td>\n",
       "      <td>2019-01-01 01:09:32</td>\n",
       "      <td>2</td>\n",
       "      <td>2.10</td>\n",
       "      <td>1</td>\n",
       "      <td>N</td>\n",
       "      <td>141</td>\n",
       "      <td>234</td>\n",
       "      <td>...</td>\n",
       "      <td>1.70</td>\n",
       "      <td>0.0</td>\n",
       "      <td>0.3</td>\n",
       "      <td>13.00</td>\n",
       "      <td>NaN</td>\n",
       "      <td>0,06</td>\n",
       "      <td>0</td>\n",
       "      <td>0</td>\n",
       "      <td>48.5</td>\n",
       "      <td>720.0</td>\n",
       "    </tr>\n",
       "    <tr>\n",
       "      <th>...</th>\n",
       "      <td>...</td>\n",
       "      <td>...</td>\n",
       "      <td>...</td>\n",
       "      <td>...</td>\n",
       "      <td>...</td>\n",
       "      <td>...</td>\n",
       "      <td>...</td>\n",
       "      <td>...</td>\n",
       "      <td>...</td>\n",
       "      <td>...</td>\n",
       "      <td>...</td>\n",
       "      <td>...</td>\n",
       "      <td>...</td>\n",
       "      <td>...</td>\n",
       "      <td>...</td>\n",
       "      <td>...</td>\n",
       "      <td>...</td>\n",
       "      <td>...</td>\n",
       "      <td>...</td>\n",
       "      <td>...</td>\n",
       "      <td>...</td>\n",
       "    </tr>\n",
       "    <tr>\n",
       "      <th>6750111</th>\n",
       "      <td>7832393</td>\n",
       "      <td>2</td>\n",
       "      <td>2019-03-31 23:19:33</td>\n",
       "      <td>2019-03-31 23:22:55</td>\n",
       "      <td>2</td>\n",
       "      <td>0.75</td>\n",
       "      <td>1</td>\n",
       "      <td>N</td>\n",
       "      <td>48</td>\n",
       "      <td>230</td>\n",
       "      <td>...</td>\n",
       "      <td>1.66</td>\n",
       "      <td>0.0</td>\n",
       "      <td>0.3</td>\n",
       "      <td>9.96</td>\n",
       "      <td>2.5</td>\n",
       "      <td>0,06</td>\n",
       "      <td>0</td>\n",
       "      <td>0</td>\n",
       "      <td>52.0</td>\n",
       "      <td>202.0</td>\n",
       "    </tr>\n",
       "    <tr>\n",
       "      <th>6750112</th>\n",
       "      <td>7832394</td>\n",
       "      <td>2</td>\n",
       "      <td>2019-03-31 23:35:19</td>\n",
       "      <td>2019-03-31 23:39:30</td>\n",
       "      <td>1</td>\n",
       "      <td>1.17</td>\n",
       "      <td>1</td>\n",
       "      <td>N</td>\n",
       "      <td>100</td>\n",
       "      <td>249</td>\n",
       "      <td>...</td>\n",
       "      <td>2.79</td>\n",
       "      <td>0.0</td>\n",
       "      <td>0.3</td>\n",
       "      <td>12.09</td>\n",
       "      <td>2.5</td>\n",
       "      <td>0,06</td>\n",
       "      <td>0</td>\n",
       "      <td>0</td>\n",
       "      <td>52.0</td>\n",
       "      <td>251.0</td>\n",
       "    </tr>\n",
       "    <tr>\n",
       "      <th>6750113</th>\n",
       "      <td>7832396</td>\n",
       "      <td>2</td>\n",
       "      <td>2019-03-31 23:20:15</td>\n",
       "      <td>2019-03-31 23:24:12</td>\n",
       "      <td>1</td>\n",
       "      <td>1.11</td>\n",
       "      <td>1</td>\n",
       "      <td>N</td>\n",
       "      <td>263</td>\n",
       "      <td>236</td>\n",
       "      <td>...</td>\n",
       "      <td>0.00</td>\n",
       "      <td>0.0</td>\n",
       "      <td>0.3</td>\n",
       "      <td>9.30</td>\n",
       "      <td>2.5</td>\n",
       "      <td>0,06</td>\n",
       "      <td>0</td>\n",
       "      <td>0</td>\n",
       "      <td>52.0</td>\n",
       "      <td>237.0</td>\n",
       "    </tr>\n",
       "    <tr>\n",
       "      <th>6750114</th>\n",
       "      <td>7832398</td>\n",
       "      <td>2</td>\n",
       "      <td>2019-03-31 22:32:57</td>\n",
       "      <td>2019-03-31 23:21:22</td>\n",
       "      <td>1</td>\n",
       "      <td>0.00</td>\n",
       "      <td>1</td>\n",
       "      <td>N</td>\n",
       "      <td>237</td>\n",
       "      <td>193</td>\n",
       "      <td>...</td>\n",
       "      <td>0.00</td>\n",
       "      <td>0.0</td>\n",
       "      <td>0.0</td>\n",
       "      <td>0.00</td>\n",
       "      <td>2.5</td>\n",
       "      <td>0,06</td>\n",
       "      <td>0</td>\n",
       "      <td>0</td>\n",
       "      <td>52.0</td>\n",
       "      <td>2905.0</td>\n",
       "    </tr>\n",
       "    <tr>\n",
       "      <th>6750115</th>\n",
       "      <td>7832399</td>\n",
       "      <td>2</td>\n",
       "      <td>2019-03-31 23:31:13</td>\n",
       "      <td>2019-03-31 23:31:15</td>\n",
       "      <td>1</td>\n",
       "      <td>0.00</td>\n",
       "      <td>1</td>\n",
       "      <td>N</td>\n",
       "      <td>264</td>\n",
       "      <td>264</td>\n",
       "      <td>...</td>\n",
       "      <td>0.00</td>\n",
       "      <td>0.0</td>\n",
       "      <td>0.0</td>\n",
       "      <td>0.00</td>\n",
       "      <td>0.0</td>\n",
       "      <td>0,06</td>\n",
       "      <td>0</td>\n",
       "      <td>0</td>\n",
       "      <td>52.0</td>\n",
       "      <td>2.0</td>\n",
       "    </tr>\n",
       "  </tbody>\n",
       "</table>\n",
       "<p>19410492 rows × 24 columns</p>\n",
       "</div>"
      ],
      "text/plain": [
       "         Unnamed: 0  VendorID tpep_pickup_datetime tpep_dropoff_datetime  \\\n",
       "0                 0         1  2019-01-01 00:46:40   2019-01-01 00:53:20   \n",
       "1                 1         1  2019-01-01 00:59:47   2019-01-01 01:18:59   \n",
       "2                 2         1  2019-01-01 00:21:28   2019-01-01 00:28:37   \n",
       "3                 3         1  2019-01-01 00:32:01   2019-01-01 00:45:39   \n",
       "4                 4         1  2019-01-01 00:57:32   2019-01-01 01:09:32   \n",
       "...             ...       ...                  ...                   ...   \n",
       "6750111     7832393         2  2019-03-31 23:19:33   2019-03-31 23:22:55   \n",
       "6750112     7832394         2  2019-03-31 23:35:19   2019-03-31 23:39:30   \n",
       "6750113     7832396         2  2019-03-31 23:20:15   2019-03-31 23:24:12   \n",
       "6750114     7832398         2  2019-03-31 22:32:57   2019-03-31 23:21:22   \n",
       "6750115     7832399         2  2019-03-31 23:31:13   2019-03-31 23:31:15   \n",
       "\n",
       "         passenger_count  trip_distance  RatecodeID store_and_fwd_flag  \\\n",
       "0                      1           1.50           1                  N   \n",
       "1                      1           2.60           1                  N   \n",
       "2                      1           1.30           1                  N   \n",
       "3                      1           3.70           1                  N   \n",
       "4                      2           2.10           1                  N   \n",
       "...                  ...            ...         ...                ...   \n",
       "6750111                2           0.75           1                  N   \n",
       "6750112                1           1.17           1                  N   \n",
       "6750113                1           1.11           1                  N   \n",
       "6750114                1           0.00           1                  N   \n",
       "6750115                1           0.00           1                  N   \n",
       "\n",
       "         PULocationID  DOLocationID  ...  tip_amount  tolls_amount  \\\n",
       "0                 151           239  ...        1.65           0.0   \n",
       "1                 239           246  ...        1.00           0.0   \n",
       "2                 163           229  ...        1.25           0.0   \n",
       "3                 229             7  ...        3.70           0.0   \n",
       "4                 141           234  ...        1.70           0.0   \n",
       "...               ...           ...  ...         ...           ...   \n",
       "6750111            48           230  ...        1.66           0.0   \n",
       "6750112           100           249  ...        2.79           0.0   \n",
       "6750113           263           236  ...        0.00           0.0   \n",
       "6750114           237           193  ...        0.00           0.0   \n",
       "6750115           264           264  ...        0.00           0.0   \n",
       "\n",
       "         improvement_surcharge  total_amount  congestion_surcharge  \\\n",
       "0                          0.3          9.95                   NaN   \n",
       "1                          0.3         16.30                   NaN   \n",
       "2                          0.3          9.05                   NaN   \n",
       "3                          0.3         18.50                   NaN   \n",
       "4                          0.3         13.00                   NaN   \n",
       "...                        ...           ...                   ...   \n",
       "6750111                    0.3          9.96                   2.5   \n",
       "6750112                    0.3         12.09                   2.5   \n",
       "6750113                    0.3          9.30                   2.5   \n",
       "6750114                    0.0          0.00                   2.5   \n",
       "6750115                    0.0          0.00                   0.0   \n",
       "\n",
       "         Rain, Melted Snow, Etc. (in)  Snow, Ice, Pellets, Hail (in)  \\\n",
       "0                                0,06                              0   \n",
       "1                                0,06                              0   \n",
       "2                                0,06                              0   \n",
       "3                                0,06                              0   \n",
       "4                                0,06                              0   \n",
       "...                               ...                            ...   \n",
       "6750111                          0,06                              0   \n",
       "6750112                          0,06                              0   \n",
       "6750113                          0,06                              0   \n",
       "6750114                          0,06                              0   \n",
       "6750115                          0,06                              0   \n",
       "\n",
       "         Snow, Ice, Pellets, Hail, Ice on Ground (in)  weather_median  \\\n",
       "0                                                   0            48.5   \n",
       "1                                                   0            48.5   \n",
       "2                                                   0            48.5   \n",
       "3                                                   0            48.5   \n",
       "4                                                   0            48.5   \n",
       "...                                               ...             ...   \n",
       "6750111                                             0            52.0   \n",
       "6750112                                             0            52.0   \n",
       "6750113                                             0            52.0   \n",
       "6750114                                             0            52.0   \n",
       "6750115                                             0            52.0   \n",
       "\n",
       "        time_traveled (seconds)  \n",
       "0                         400.0  \n",
       "1                        1152.0  \n",
       "2                         429.0  \n",
       "3                         818.0  \n",
       "4                         720.0  \n",
       "...                         ...  \n",
       "6750111                   202.0  \n",
       "6750112                   251.0  \n",
       "6750113                   237.0  \n",
       "6750114                  2905.0  \n",
       "6750115                     2.0  \n",
       "\n",
       "[19410492 rows x 24 columns]"
      ]
     },
     "execution_count": 4,
     "metadata": {},
     "output_type": "execute_result"
    }
   ],
   "source": [
    "# concatenate january - march 2019\n",
    "frames_2019 = [jan, feb, mar]\n",
    "taxi_2019 = pd.concat(frames_2019)\n",
    "\n",
    "# concatenate january - march 2020\n",
    "frames_2020 = [jan_2020, feb_2020, mar_2020]\n",
    "taxi_2020 = pd.concat(frames_2020)\n",
    "taxi_2019"
   ]
  },
  {
   "cell_type": "markdown",
   "metadata": {},
   "source": [
    "## Feature Selection"
   ]
  },
  {
   "cell_type": "code",
   "execution_count": 59,
   "metadata": {},
   "outputs": [
    {
     "data": {
      "text/plain": [
       "SelectKBest(score_func=<function f_regression at 0x7fb80f096ca0>)"
      ]
     },
     "execution_count": 59,
     "metadata": {},
     "output_type": "execute_result"
    }
   ],
   "source": [
    "taxi_2019_x = taxi_2019.drop(columns=['total_amount', 'tpep_pickup_datetime', 'tpep_dropoff_datetime', 'store_and_fwd_flag', 'Rain, Melted Snow, Etc. (in)', 'Snow, Ice, Pellets, Hail (in)', 'Snow, Ice, Pellets, Hail, Ice on Ground (in)', 'congestion_surcharge'])\n",
    "taxi_2019_x\n",
    "taxi_2019_y = taxi_2019['total_amount']\n",
    "\n",
    "# use feature selection\n",
    "from sklearn.feature_selection import SelectKBest, chi2, f_regression\n",
    "X_reg_new=SelectKBest(score_func=f_regression, k=10)\n",
    "X_reg_new.fit(taxi_2019_x,taxi_2019_y)"
   ]
  },
  {
   "cell_type": "code",
   "execution_count": 63,
   "metadata": {},
   "outputs": [
    {
     "name": "stdout",
     "output_type": "stream",
     "text": [
      "(19410492, 10)\n",
      "['trip_distance', 'RatecodeID', 'payment_type', 'fare_amount', 'extra', 'tip_amount', 'tolls_amount', 'improvement_surcharge', 'weather_median', 'time_traveled (seconds)']\n"
     ]
    }
   ],
   "source": [
    "# previous trial\n",
    "# taxi_2019_x = taxi_2019[['tolls_amount', 'tip_amount', 'fare_amount', 'weather_median', 'trip_distance', 'passenger_count', 'mta_tax']]\n",
    "# taxi_2019_y = taxi_2019['total_amount']\n",
    "\n",
    "# check which features are selected from SelectKBest\n",
    "# attributed from https://stackoverflow.com/questions/46927545/get-feature-names-of-selectkbest-function-python\n",
    "X_new = X_reg_new.transform(taxi_2019_x)\n",
    "print(X_new.shape)\n",
    "\n",
    "taxi_2019_x.columns[X_reg_new.get_support(indices=True)]\n",
    "\n",
    "# 1st way to get the list\n",
    "vector_names = list(taxi_2019_x.columns[X_reg_new.get_support(indices=True)])\n",
    "print(vector_names)"
   ]
  },
  {
   "cell_type": "code",
   "execution_count": 67,
   "metadata": {},
   "outputs": [],
   "source": [
    "X_reg_new=SelectKBest(score_func=f_regression, k=10).fit_transform(taxi_2019_x,taxi_2019_y)"
   ]
  },
  {
   "cell_type": "code",
   "execution_count": 68,
   "metadata": {},
   "outputs": [
    {
     "data": {
      "text/plain": [
       "(19410492, 10)"
      ]
     },
     "execution_count": 68,
     "metadata": {},
     "output_type": "execute_result"
    }
   ],
   "source": [
    "X_reg_new.shape"
   ]
  },
  {
   "cell_type": "code",
   "execution_count": 69,
   "metadata": {},
   "outputs": [
    {
     "data": {
      "text/plain": [
       "(19410492, 24)"
      ]
     },
     "execution_count": 69,
     "metadata": {},
     "output_type": "execute_result"
    }
   ],
   "source": [
    "taxi_2019.shape"
   ]
  },
  {
   "cell_type": "code",
   "execution_count": 70,
   "metadata": {},
   "outputs": [
    {
     "data": {
      "text/plain": [
       "<bound method NDFrame.head of              0    1    2     3    4     5    6    7     8       9\n",
       "0         1.50  1.0  1.0   7.0  0.5  1.65  0.0  0.3  48.5   400.0\n",
       "1         2.60  1.0  1.0  14.0  0.5  1.00  0.0  0.3  48.5  1152.0\n",
       "2         1.30  1.0  1.0   6.5  0.5  1.25  0.0  0.3  48.5   429.0\n",
       "3         3.70  1.0  1.0  13.5  0.5  3.70  0.0  0.3  48.5   818.0\n",
       "4         2.10  1.0  1.0  10.0  0.5  1.70  0.0  0.3  48.5   720.0\n",
       "...        ...  ...  ...   ...  ...   ...  ...  ...   ...     ...\n",
       "19410487  0.75  1.0  1.0   4.5  0.5  1.66  0.0  0.3  52.0   202.0\n",
       "19410488  1.17  1.0  1.0   5.5  0.5  2.79  0.0  0.3  52.0   251.0\n",
       "19410489  1.11  1.0  2.0   5.5  0.5  0.00  0.0  0.3  52.0   237.0\n",
       "19410490  0.00  1.0  2.0   0.0  0.0  0.00  0.0  0.0  52.0  2905.0\n",
       "19410491  0.00  1.0  2.0   0.0  0.0  0.00  0.0  0.0  52.0     2.0\n",
       "\n",
       "[19410492 rows x 10 columns]>"
      ]
     },
     "execution_count": 70,
     "metadata": {},
     "output_type": "execute_result"
    }
   ],
   "source": [
    "pd.DataFrame(X_reg_new).head"
   ]
  },
  {
   "cell_type": "markdown",
   "metadata": {},
   "source": [
    "## Modelling"
   ]
  },
  {
   "cell_type": "code",
   "execution_count": 71,
   "metadata": {},
   "outputs": [
    {
     "name": "stdout",
     "output_type": "stream",
     "text": [
      "LASSO: -79.516372 in 6.803\n",
      "Better Model LASSO: -79.516372 in 6.804\n",
      "EN: -75.996236 in 5.893\n",
      "Better Model EN: -75.996236 in 5.893\n",
      "LinearRegression: -46.347813 in 6.986\n",
      "Better Model LinearRegression: -46.347813 in 6.986\n"
     ]
    }
   ],
   "source": [
    "from sklearn.model_selection import KFold, cross_val_score\n",
    "from sklearn.linear_model import Lasso, ElasticNet\n",
    "from sklearn.tree import DecisionTreeRegressor\n",
    "from sklearn.neighbors import KNeighborsRegressor\n",
    "from sklearn.feature_selection import SelectKBest\n",
    "from sklearn.model_selection import train_test_split\n",
    "from xgboost import XGBRegressor\n",
    "from sklearn.linear_model import LinearRegression\n",
    "from time import time\n",
    "\n",
    "def reg_modeling_split(X,Y,size) :\n",
    "    # Model Collection\n",
    "    models = []\n",
    "    models.append(('LASSO', Lasso()))\n",
    "    models.append(('EN', ElasticNet()))\n",
    "    # models.append(('KNN', KNeighborsRegressor()))\n",
    "    # models.append(('CART', DecisionTreeRegressor()))\n",
    "    # models.append(('XGB', XGBRegressor()))\n",
    "    models.append(('LinearRegression', LinearRegression(positive=False, normalize=False, n_jobs=1, fit_intercept=True, copy_X=True)))\n",
    "    # Initial Values\n",
    "    results = []\n",
    "    best_result = []\n",
    "    names = []\n",
    "    scoring = 'neg_mean_squared_error'\n",
    "    cur_score = -1000\n",
    "    runtime = []\n",
    "    # Evaluate Each Model and Select Best Model\n",
    "    for i, (name, model) in enumerate(models):\n",
    "        # Cross Validation k-Fold\n",
    "        seed = 7\n",
    "        X_train, X_test, Y_train, Y_test = train_test_split(X, Y, test_size=size,random_state=seed)\n",
    "        t0 = time()\n",
    "        cv_results = cross_val_score(model, X_train, Y_train, cv=3, scoring=scoring)\n",
    "        print(\"%s: %f in %.3f\" % (name,cv_results.mean(),time()-t0))\n",
    "        runtime.append(time() - t0)\n",
    "        results.append(cv_results.mean())\n",
    "        names.append(name)    \n",
    "        # Best Model Selection\n",
    "        if cv_results.mean() > cur_score:\n",
    "            cur_score = cv_results.mean()\n",
    "            best_result = cv_results\n",
    "            best_index = i\n",
    "            print(\"Better Model %s: %f in %.3f\" % (name,cv_results.mean(),time()-t0))\n",
    "    best_model = models[best_index]\n",
    "    best_time = runtime[best_index]\n",
    "    return (best_model,best_time,best_result)\n",
    "\n",
    "best_model = reg_modeling_split(X_reg_new, taxi_2019_y.values, 0.2)\n",
    "\n",
    "#cv_results untuk apa"
   ]
  },
  {
   "cell_type": "markdown",
   "metadata": {},
   "source": [
    "## Hyperparameter Tuning"
   ]
  },
  {
   "cell_type": "code",
   "execution_count": 48,
   "metadata": {},
   "outputs": [],
   "source": [
    "# random search linear regression model on the auto insurance dataset\n",
    "from scipy.stats import loguniform\n",
    "from pandas import read_csv\n",
    "from sklearn.linear_model import Ridge\n",
    "from sklearn.model_selection import RepeatedKFold\n",
    "from sklearn.model_selection import RandomizedSearchCV\n",
    "\n",
    "cv = RepeatedKFold(n_splits=10, n_repeats=3, random_state=1)\n",
    "\n",
    "# define search space\n",
    "space = dict()\n",
    "space['fit_intercept'] = [True, False]\n",
    "space['normalize'] = [True, False]\n",
    "space['copy_X'] = [True, False]\n",
    "space['positive'] = [True, False]\n",
    "space['n_jobs'] = [1, -1, -2]\n",
    "\n",
    "\n",
    "model = LinearRegression()\n",
    "# define search\n",
    "search = RandomizedSearchCV(model, space, n_iter=500, scoring='neg_mean_absolute_error', n_jobs=-1, cv=cv, random_state=1)\n",
    "# execute search\n",
    "X = pd.DataFrame(X_reg_new)"
   ]
  },
  {
   "cell_type": "code",
   "execution_count": 49,
   "metadata": {},
   "outputs": [
    {
     "data": {
      "text/plain": [
       "{'positive': False,\n",
       " 'normalize': False,\n",
       " 'n_jobs': 1,\n",
       " 'fit_intercept': True,\n",
       " 'copy_X': True}"
      ]
     },
     "execution_count": 49,
     "metadata": {},
     "output_type": "execute_result"
    }
   ],
   "source": [
    "result = search.fit(X, taxi_2019_y)\n",
    "# summarize result\n",
    "\n",
    "result.best_score_\n",
    "result.best_params_"
   ]
  },
  {
   "cell_type": "markdown",
   "metadata": {},
   "source": [
    "## Predict 2020 Data"
   ]
  },
  {
   "cell_type": "code",
   "execution_count": 37,
   "metadata": {},
   "outputs": [
    {
     "data": {
      "text/plain": [
       "dict_keys(['copy_X', 'fit_intercept', 'n_jobs', 'normalize', 'positive'])"
      ]
     },
     "execution_count": 37,
     "metadata": {},
     "output_type": "execute_result"
    }
   ],
   "source": [
    "model.get_params().keys()"
   ]
  },
  {
   "cell_type": "code",
   "execution_count": 84,
   "metadata": {
    "scrolled": true
   },
   "outputs": [
    {
     "data": {
      "text/plain": [
       "array([11.54624789, 17.92378419, 10.64146791, ..., -8.69143149,\n",
       "       -8.69134467, -8.69114836])"
      ]
     },
     "execution_count": 84,
     "metadata": {},
     "output_type": "execute_result"
    }
   ],
   "source": [
    "best_model[0][1].fit(X_reg_new, taxi_2019_y)\n",
    "model = best_model[0][1]\n",
    "jan_2020_x = jan_2020[['trip_distance', 'RatecodeID', 'payment_type', 'fare_amount', 'extra', 'tip_amount', 'tolls_amount', 'improvement_surcharge', 'weather_median', 'time_traveled (seconds)']]\n",
    "jan_2020_y = jan_2020['total_amount']\n",
    "\n",
    "jan_2020_pred = model.predict(jan_2020_x)\n",
    "jan_2020_pred"
   ]
  },
  {
   "cell_type": "code",
   "execution_count": 85,
   "metadata": {},
   "outputs": [
    {
     "data": {
      "text/plain": [
       "0.9999543865626461"
      ]
     },
     "execution_count": 85,
     "metadata": {},
     "output_type": "execute_result"
    }
   ],
   "source": [
    "model.score(jan_2020_x, jan_2020_y)\n",
    "# evaluation matrix\n",
    "# hyperparameter tuning"
   ]
  }
 ],
 "metadata": {
  "kernelspec": {
   "display_name": "Python 3 (Anaconda 3)",
   "language": "python",
   "name": "python3"
  },
  "language_info": {
   "codemirror_mode": {
    "name": "ipython",
    "version": 3
   },
   "file_extension": ".py",
   "mimetype": "text/x-python",
   "name": "python",
   "nbconvert_exporter": "python",
   "pygments_lexer": "ipython3",
   "version": "3.8.2"
  }
 },
 "nbformat": 4,
 "nbformat_minor": 4
}
