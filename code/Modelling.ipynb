{
 "cells": [
  {
   "cell_type": "code",
   "execution_count": 3,
   "metadata": {},
   "outputs": [],
   "source": [
    "# import libraries\n",
    "import pandas as pd\n",
    "\n",
    "# ignore warning\n",
    "import warnings\n",
    "warnings.filterwarnings(\"ignore\")\n",
    "\n",
    "jan = pd.read_csv(\"../preprocessed_data/January.csv\")\n",
    "feb = pd.read_csv(\"../preprocessed_data/February.csv\")\n",
    "mar = pd.read_csv(\"../preprocessed_data/March.csv\")\n",
    "jan_2020 = pd.read_csv(\"../preprocessed_data/January_2020.csv\")\n",
    "feb_2020 = pd.read_csv(\"../preprocessed_data/February_2020.csv\")\n",
    "mar_2020 = pd.read_csv(\"../preprocessed_data/March_2020.csv\")"
   ]
  },
  {
   "cell_type": "code",
   "execution_count": 5,
   "metadata": {},
   "outputs": [],
   "source": [
    "# choose which features are correlated\n",
    "\n",
    "jan = pd.read_csv(\"../raw_data/yellow_tripdata_2020-01.csv\")\n",
    "feb = pd.read_csv(\"../raw_data/yellow_tripdata_2020-02.csv\")\n",
    "mar = pd.read_csv(\"../raw_data/yellow_tripdata_2020-03.csv\")"
   ]
  },
  {
   "cell_type": "markdown",
   "metadata": {},
   "source": [
    "## Train-test Split"
   ]
  },
  {
   "cell_type": "code",
   "execution_count": 7,
   "metadata": {},
   "outputs": [],
   "source": [
    "# Load libraries\n",
    "import numpy\n",
    "import pandas # 1.2.4\n",
    "import sklearn # 0.24.1\n",
    "import joblib # 1.0.1\n",
    "\n",
    "from time import time\n",
    "from pandas import read_csv\n",
    "from joblib import load, dump \n",
    "\n",
    "from sklearn.model_selection import KFold, cross_val_score\n",
    "from sklearn.linear_model import Lasso, ElasticNet\n",
    "from sklearn.tree import DecisionTreeRegressor\n",
    "from sklearn.neighbors import KNeighborsRegressor\n",
    "from sklearn.pipeline import FeatureUnion\n",
    "from sklearn.decomposition import PCA\n",
    "from sklearn.preprocessing import StandardScaler, MinMaxScaler, Normalizer, Binarizer \n",
    "from sklearn.feature_selection import SelectKBest\n",
    "import pandas as pd\n",
    "import numpy as np\n",
    "import seaborn as sns\n",
    "import matplotlib.pyplot as plt\n",
    "import folium\n",
    "from datetime import datetime\n",
    "import geopandas as gpd\n",
    "import numpy as np\n",
    "import seaborn as sns\n",
    "import json\n",
    "import matplotlib.patches as mpatches\n",
    "from numpy import log, sqrt\n",
    "import warnings\n",
    "from sklearn.model_selection import cross_val_score\n",
    "from sklearn.model_selection import train_test_split\n",
    "from sklearn.linear_model import LinearRegression\n",
    "from sklearn.tree import DecisionTreeRegressor\n",
    "from sklearn.tree import DecisionTreeClassifier\n",
    "from sklearn.ensemble import RandomForestRegressor\n",
    "from sklearn import tree\n",
    "from sklearn import model_selection\n",
    "from sklearn.linear_model import LogisticRegression\n",
    "from sklearn.metrics import classification_report\n",
    "from numpy import log, sqrt\n",
    "from sklearn.metrics import accuracy_score\n",
    "from sklearn.naive_bayes import GaussianNB\n",
    "from sklearn.metrics import confusion_matrix\n",
    "warnings.filterwarnings(\"ignore\")"
   ]
  },
  {
   "cell_type": "code",
   "execution_count": 16,
   "metadata": {},
   "outputs": [],
   "source": [
    "# concatenate january - march 2019\n",
    "frames_2019 = [jan, feb, mar]\n",
    "taxi_2019 = pd.concat(frames_2019)"
   ]
  },
  {
   "cell_type": "code",
   "execution_count": 14,
   "metadata": {},
   "outputs": [
    {
     "data": {
      "text/html": [
       "<div>\n",
       "<style scoped>\n",
       "    .dataframe tbody tr th:only-of-type {\n",
       "        vertical-align: middle;\n",
       "    }\n",
       "\n",
       "    .dataframe tbody tr th {\n",
       "        vertical-align: top;\n",
       "    }\n",
       "\n",
       "    .dataframe thead th {\n",
       "        text-align: right;\n",
       "    }\n",
       "</style>\n",
       "<table border=\"1\" class=\"dataframe\">\n",
       "  <thead>\n",
       "    <tr style=\"text-align: right;\">\n",
       "      <th></th>\n",
       "      <th>tolls_amount</th>\n",
       "      <th>fare_amount</th>\n",
       "      <th>trip_distance</th>\n",
       "      <th>mta_tax</th>\n",
       "    </tr>\n",
       "  </thead>\n",
       "  <tbody>\n",
       "    <tr>\n",
       "      <th>0</th>\n",
       "      <td>0.0</td>\n",
       "      <td>6.00</td>\n",
       "      <td>1.20</td>\n",
       "      <td>0.5</td>\n",
       "    </tr>\n",
       "    <tr>\n",
       "      <th>1</th>\n",
       "      <td>0.0</td>\n",
       "      <td>7.00</td>\n",
       "      <td>1.20</td>\n",
       "      <td>0.5</td>\n",
       "    </tr>\n",
       "    <tr>\n",
       "      <th>2</th>\n",
       "      <td>0.0</td>\n",
       "      <td>6.00</td>\n",
       "      <td>0.60</td>\n",
       "      <td>0.5</td>\n",
       "    </tr>\n",
       "    <tr>\n",
       "      <th>3</th>\n",
       "      <td>0.0</td>\n",
       "      <td>5.50</td>\n",
       "      <td>0.80</td>\n",
       "      <td>0.5</td>\n",
       "    </tr>\n",
       "    <tr>\n",
       "      <th>4</th>\n",
       "      <td>0.0</td>\n",
       "      <td>3.50</td>\n",
       "      <td>0.00</td>\n",
       "      <td>0.5</td>\n",
       "    </tr>\n",
       "    <tr>\n",
       "      <th>...</th>\n",
       "      <td>...</td>\n",
       "      <td>...</td>\n",
       "      <td>...</td>\n",
       "      <td>...</td>\n",
       "    </tr>\n",
       "    <tr>\n",
       "      <th>3007287</th>\n",
       "      <td>0.0</td>\n",
       "      <td>30.47</td>\n",
       "      <td>5.43</td>\n",
       "      <td>0.5</td>\n",
       "    </tr>\n",
       "    <tr>\n",
       "      <th>3007288</th>\n",
       "      <td>0.0</td>\n",
       "      <td>37.97</td>\n",
       "      <td>13.21</td>\n",
       "      <td>0.5</td>\n",
       "    </tr>\n",
       "    <tr>\n",
       "      <th>3007289</th>\n",
       "      <td>0.0</td>\n",
       "      <td>37.10</td>\n",
       "      <td>12.14</td>\n",
       "      <td>0.0</td>\n",
       "    </tr>\n",
       "    <tr>\n",
       "      <th>3007290</th>\n",
       "      <td>0.0</td>\n",
       "      <td>20.07</td>\n",
       "      <td>7.01</td>\n",
       "      <td>0.0</td>\n",
       "    </tr>\n",
       "    <tr>\n",
       "      <th>3007291</th>\n",
       "      <td>0.0</td>\n",
       "      <td>23.40</td>\n",
       "      <td>6.31</td>\n",
       "      <td>0.5</td>\n",
       "    </tr>\n",
       "  </tbody>\n",
       "</table>\n",
       "<p>15711654 rows × 4 columns</p>\n",
       "</div>"
      ],
      "text/plain": [
       "         tolls_amount  fare_amount  trip_distance  mta_tax\n",
       "0                 0.0         6.00           1.20      0.5\n",
       "1                 0.0         7.00           1.20      0.5\n",
       "2                 0.0         6.00           0.60      0.5\n",
       "3                 0.0         5.50           0.80      0.5\n",
       "4                 0.0         3.50           0.00      0.5\n",
       "...               ...          ...            ...      ...\n",
       "3007287           0.0        30.47           5.43      0.5\n",
       "3007288           0.0        37.97          13.21      0.5\n",
       "3007289           0.0        37.10          12.14      0.0\n",
       "3007290           0.0        20.07           7.01      0.0\n",
       "3007291           0.0        23.40           6.31      0.5\n",
       "\n",
       "[15711654 rows x 4 columns]"
      ]
     },
     "execution_count": 14,
     "metadata": {},
     "output_type": "execute_result"
    }
   ],
   "source": [
    "taxi_2019_x = taxi_2019[['tolls_amount', 'fare_amount', 'trip_distance', 'mta_tax']]\n",
    "taxi_2019_x.dtypes\n",
    "taxi_2019_y = taxi_2019['total_amount']\n",
    "taxi_2019_x"
   ]
  },
  {
   "cell_type": "code",
   "execution_count": 17,
   "metadata": {},
   "outputs": [
    {
     "name": "stdout",
     "output_type": "stream",
     "text": [
      "LASSO: -79565.136227 in 2.092\n",
      "EN: -79565.061014 in 2.052\n",
      "LinearRegression: -324892.182048 in 2.585\n"
     ]
    },
    {
     "ename": "UnboundLocalError",
     "evalue": "local variable 'best_index' referenced before assignment",
     "output_type": "error",
     "traceback": [
      "\u001b[0;31m---------------------------------------------------------------------------\u001b[0m",
      "\u001b[0;31mUnboundLocalError\u001b[0m                         Traceback (most recent call last)",
      "\u001b[0;32m/tmp/ipykernel_190256/1102396087.py\u001b[0m in \u001b[0;36m<module>\u001b[0;34m\u001b[0m\n\u001b[1;32m     38\u001b[0m     \u001b[0;32mreturn\u001b[0m \u001b[0;34m(\u001b[0m\u001b[0mbest_model\u001b[0m\u001b[0;34m,\u001b[0m\u001b[0mbest_time\u001b[0m\u001b[0;34m,\u001b[0m\u001b[0mbest_result\u001b[0m\u001b[0;34m)\u001b[0m\u001b[0;34m\u001b[0m\u001b[0;34m\u001b[0m\u001b[0m\n\u001b[1;32m     39\u001b[0m \u001b[0;34m\u001b[0m\u001b[0m\n\u001b[0;32m---> 40\u001b[0;31m \u001b[0mbest_model\u001b[0m \u001b[0;34m=\u001b[0m \u001b[0mreg_modeling_split\u001b[0m\u001b[0;34m(\u001b[0m\u001b[0mtaxi_2019_x\u001b[0m\u001b[0;34m.\u001b[0m\u001b[0mvalues\u001b[0m\u001b[0;34m,\u001b[0m \u001b[0mtaxi_2019_y\u001b[0m\u001b[0;34m.\u001b[0m\u001b[0mvalues\u001b[0m\u001b[0;34m,\u001b[0m \u001b[0;36m0.2\u001b[0m\u001b[0;34m)\u001b[0m\u001b[0;34m\u001b[0m\u001b[0;34m\u001b[0m\u001b[0m\n\u001b[0m",
      "\u001b[0;32m/tmp/ipykernel_190256/1102396087.py\u001b[0m in \u001b[0;36mreg_modeling_split\u001b[0;34m(X, Y, size)\u001b[0m\n\u001b[1;32m     34\u001b[0m             \u001b[0mbest_index\u001b[0m \u001b[0;34m=\u001b[0m \u001b[0mi\u001b[0m\u001b[0;34m\u001b[0m\u001b[0;34m\u001b[0m\u001b[0m\n\u001b[1;32m     35\u001b[0m             \u001b[0mprint\u001b[0m\u001b[0;34m(\u001b[0m\u001b[0;34m\"Better Model %s: %f in %.3f\"\u001b[0m \u001b[0;34m%\u001b[0m \u001b[0;34m(\u001b[0m\u001b[0mname\u001b[0m\u001b[0;34m,\u001b[0m\u001b[0mcv_results\u001b[0m\u001b[0;34m.\u001b[0m\u001b[0mmean\u001b[0m\u001b[0;34m(\u001b[0m\u001b[0;34m)\u001b[0m\u001b[0;34m,\u001b[0m\u001b[0mtime\u001b[0m\u001b[0;34m(\u001b[0m\u001b[0;34m)\u001b[0m\u001b[0;34m-\u001b[0m\u001b[0mt0\u001b[0m\u001b[0;34m)\u001b[0m\u001b[0;34m)\u001b[0m\u001b[0;34m\u001b[0m\u001b[0;34m\u001b[0m\u001b[0m\n\u001b[0;32m---> 36\u001b[0;31m     \u001b[0mbest_model\u001b[0m \u001b[0;34m=\u001b[0m \u001b[0mmodels\u001b[0m\u001b[0;34m[\u001b[0m\u001b[0mbest_index\u001b[0m\u001b[0;34m]\u001b[0m\u001b[0;34m\u001b[0m\u001b[0;34m\u001b[0m\u001b[0m\n\u001b[0m\u001b[1;32m     37\u001b[0m     \u001b[0mbest_time\u001b[0m \u001b[0;34m=\u001b[0m \u001b[0mruntime\u001b[0m\u001b[0;34m[\u001b[0m\u001b[0mbest_index\u001b[0m\u001b[0;34m]\u001b[0m\u001b[0;34m\u001b[0m\u001b[0;34m\u001b[0m\u001b[0m\n\u001b[1;32m     38\u001b[0m     \u001b[0;32mreturn\u001b[0m \u001b[0;34m(\u001b[0m\u001b[0mbest_model\u001b[0m\u001b[0;34m,\u001b[0m\u001b[0mbest_time\u001b[0m\u001b[0;34m,\u001b[0m\u001b[0mbest_result\u001b[0m\u001b[0;34m)\u001b[0m\u001b[0;34m\u001b[0m\u001b[0;34m\u001b[0m\u001b[0m\n",
      "\u001b[0;31mUnboundLocalError\u001b[0m: local variable 'best_index' referenced before assignment"
     ]
    }
   ],
   "source": [
    "# train test split model\n",
    "from sklearn.model_selection import train_test_split\n",
    "def reg_modeling_split(X,Y,size) :\n",
    "    # Model Collection\n",
    "    models = []\n",
    "    models.append(('LASSO', Lasso()))\n",
    "    models.append(('EN', ElasticNet()))\n",
    "    # models.append(('KNN', KNeighborsRegressor()))\n",
    "    # models.append(('CART', DecisionTreeRegressor()))\n",
    "    # models.append(('XGB', XGBRegressor()))\n",
    "    models.append(('LinearRegression', LinearRegression()))\n",
    "    # Initial Values\n",
    "    results = []\n",
    "    best_result = []\n",
    "    names = []\n",
    "    scoring = 'neg_mean_squared_error'\n",
    "    cur_score = -3000\n",
    "    runtime = []\n",
    "    # Evaluate Each Model and Select Best Model\n",
    "    for i, (name, model) in enumerate(models):\n",
    "        # Cross Validation k-Fold\n",
    "        seed = 7\n",
    "        X_train, X_test, Y_train, Y_test = train_test_split(X, Y, test_size=size,random_state=seed)\n",
    "        t0 = time()\n",
    "        cv_results = cross_val_score(model, X_train, Y_train, cv=3, scoring=scoring)\n",
    "        print(\"%s: %f in %.3f\" % (name,cv_results.mean(),time()-t0))\n",
    "        runtime.append(time() - t0)\n",
    "        results.append(cv_results.mean())\n",
    "        names.append(name)    \n",
    "        # Best Model Selection\n",
    "        if cv_results.mean() > cur_score:\n",
    "            cur_score = cv_results.mean()\n",
    "            best_result = cv_results\n",
    "            best_index = i\n",
    "            print(\"Better Model %s: %f in %.3f\" % (name,cv_results.mean(),time()-t0))\n",
    "    best_model = models[best_index]\n",
    "    best_time = runtime[best_index]\n",
    "    return (best_model,best_time,best_result)\n",
    "\n",
    "best_model = reg_modeling_split(taxi_2019_x.values, taxi_2019_y.values, 0.2)"
   ]
  },
  {
   "cell_type": "markdown",
   "metadata": {},
   "source": [
    "## Modelling"
   ]
  },
  {
   "cell_type": "code",
   "execution_count": null,
   "metadata": {},
   "outputs": [],
   "source": [
    "# modelling using XG Boost, Linear Regression, Gradient Boost"
   ]
  },
  {
   "cell_type": "markdown",
   "metadata": {},
   "source": [
    "## Test on train-test-split set"
   ]
  },
  {
   "cell_type": "code",
   "execution_count": null,
   "metadata": {},
   "outputs": [],
   "source": [
    "# evaluation matrix"
   ]
  },
  {
   "cell_type": "markdown",
   "metadata": {},
   "source": [
    "## Test on 2020 data set"
   ]
  },
  {
   "cell_type": "code",
   "execution_count": null,
   "metadata": {},
   "outputs": [],
   "source": [
    "# evaluation matrix"
   ]
  },
  {
   "cell_type": "code",
   "execution_count": null,
   "metadata": {},
   "outputs": [],
   "source": [
    "# you may want to do some more feature engineering, hyperparameter tuning, standardisation"
   ]
  }
 ],
 "metadata": {
  "kernelspec": {
   "display_name": "Python 3 (Anaconda 3)",
   "language": "python",
   "name": "python3"
  },
  "language_info": {
   "codemirror_mode": {
    "name": "ipython",
    "version": 3
   },
   "file_extension": ".py",
   "mimetype": "text/x-python",
   "name": "python",
   "nbconvert_exporter": "python",
   "pygments_lexer": "ipython3",
   "version": "3.8.2"
  }
 },
 "nbformat": 4,
 "nbformat_minor": 4
}
